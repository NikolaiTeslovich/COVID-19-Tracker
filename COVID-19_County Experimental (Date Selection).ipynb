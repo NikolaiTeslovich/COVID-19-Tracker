{
 "cells": [
  {
   "cell_type": "code",
   "execution_count": 1,
   "metadata": {
    "colab": {
     "base_uri": "https://localhost:8080/",
     "height": 34
    },
    "colab_type": "code",
    "id": "1YASyoTRJ9Pp",
    "outputId": "35256972-be08-456f-9179-d0e19b43f294"
   },
   "outputs": [
    {
     "name": "stdout",
     "output_type": "stream",
     "text": [
      "import of packages successful\n"
     ]
    }
   ],
   "source": [
    "# import necessary Python packages\n",
    "import matplotlib.pyplot as plt\n",
    "import pandas as pd\n",
    "import ipywidgets as widgets\n",
    "\n",
    "# print message after packages imported successfully\n",
    "print(\"import of packages successful\")\n"
   ]
  },
  {
   "cell_type": "code",
   "execution_count": 2,
   "metadata": {
    "colab": {},
    "colab_type": "code",
    "id": "E5kCU2XEaAm5"
   },
   "outputs": [],
   "source": [
    "# import the files with COVID-19 cases in all of US from NY Times\n",
    "url = 'https://raw.githubusercontent.com/nytimes/covid-19-data/master/us-counties.csv'\n",
    "\n",
    "# initialize the main dataframe by reading the NY Times csv file and name it df\n",
    "df = pd.read_csv(url)\n",
    "\n",
    "# convert the dates into a format that is recognizable to Pandas\n",
    "df['date'] = pd.to_datetime(df.date)"
   ]
  },
  {
   "cell_type": "code",
   "execution_count": 3,
   "metadata": {
    "colab": {},
    "colab_type": "code",
    "id": "znnL3Cd3itRN"
   },
   "outputs": [],
   "source": [
    "def spell_check(column):\n",
    "\n",
    "  # define these as global variables as they will be referenced by other functions later\n",
    "  global i, countyname, countystatename, ifcomma\n",
    "\n",
    "  # set i as the keyboard input\n",
    "  i = input()\n",
    "\n",
    "  # if the dataframe does not contain the inputted text, keep on prompting the user to type it in correctly, it will only advance when typed correctly\n",
    "  if df[column].str.contains(i).any() == False:\n",
    "\n",
    "    print('\\n')\n",
    "\n",
    "    while df[column].str.contains(i).any() == False:\n",
    "\n",
    "      i = input('You mispelled something, please try again: ')\n",
    "\n",
    "  # if the county is being spell checked, set the countyname to what is inputted from the keyboard, and leave countystatename and ifcomma blank\n",
    "  if column == 'county':\n",
    "\n",
    "    countyname = i\n",
    "    countystatename = ''\n",
    "    ifcomma = ''\n",
    "\n",
    "  # if the state is being spell checked, set the countystatename from the keyboard, and enable the comma that will later be used in the title\n",
    "  else:\n",
    "\n",
    "    countystatename = i\n",
    "    ifcomma = ','\n"
   ]
  },
  {
   "cell_type": "code",
   "execution_count": 4,
   "metadata": {
    "colab": {
     "base_uri": "https://localhost:8080/",
     "height": 68
    },
    "colab_type": "code",
    "id": "JXrU0_CEjxPF",
    "outputId": "a4297091-acf6-45e8-e0f3-f820329f8722"
   },
   "outputs": [
    {
     "name": "stdout",
     "output_type": "stream",
     "text": [
      "Input your county: \n",
      "Centre\n",
      "County found\n"
     ]
    }
   ],
   "source": [
    "print('Input your county: ')\n",
    "\n",
    "spell_check('county')\n",
    "\n",
    "# make a new dataframe with the selected county from the previous cell and name it countydf\n",
    "countydf = df[df.county == i].copy()\n",
    "\n",
    "# print that the county was found\n",
    "print('County found') "
   ]
  },
  {
   "cell_type": "code",
   "execution_count": 5,
   "metadata": {
    "colab": {},
    "colab_type": "code",
    "id": "dXj06JbSspNi"
   },
   "outputs": [],
   "source": [
    "# if there are is more than one county with the same name\n",
    "if countydf.state.nunique() > 1:\n",
    "\n",
    "  # print \"There is more than one county with the same name\"\n",
    "  print(\"There is more than one county with the same name.\")\n",
    "\n",
    "  # ask for which state your county is located in\n",
    "  print(\"Enter the state that your county is in: \")\n",
    "  \n",
    "  spell_check('state')\n",
    "\n",
    "  # update the dataframe to only be that county\n",
    "  countydf = countydf[countydf.state == i] \n",
    "\n",
    "  # print that the state was found\n",
    "  print('State found')   \n"
   ]
  },
  {
   "cell_type": "code",
   "execution_count": 6,
   "metadata": {
    "colab": {},
    "colab_type": "code",
    "id": "SL1Rq5qPBJc4"
   },
   "outputs": [],
   "source": [
    "# define a function to find the new cases per day and new deaths per day and append the column to the existing countydf dataframe\n",
    "def dif_in(column):\n",
    "\n",
    "  countydf['dif' + column] = countydf[column] - countydf[column].shift(1)"
   ]
  },
  {
   "cell_type": "code",
   "execution_count": 7,
   "metadata": {
    "colab": {},
    "colab_type": "code",
    "id": "eb8r3dfaM_Jr"
   },
   "outputs": [],
   "source": [
    "# find the new cases per day using the dif_in function\n",
    "dif_in('cases')\n",
    "\n",
    "# find the new deaths per day using the dif_in function\n",
    "dif_in('deaths')"
   ]
  },
  {
   "cell_type": "code",
   "execution_count": 8,
   "metadata": {
    "colab": {},
    "colab_type": "code",
    "id": "wBmwnYS43lWf"
   },
   "outputs": [],
   "source": [
    "# define function that converts the abbreviations(cases, difcases, deaths, difdeaths) into proper names which will be used to name the y-axis and title the graphs\n",
    "def proper_name(inpropname):\n",
    "\n",
    "  # capitalize the first letter for cases & deaths\n",
    "  if len(inpropname) <= 6:\n",
    "\n",
    "    propervarname = inpropname.capitalize()\n",
    "\n",
    "  # make difdeaths and difcases into New Deaths per Day and New Cases per Day\n",
    "  else:\n",
    "\n",
    "    propervarname = 'New ' + inpropname[3:].capitalize() + ' per Day'\n",
    "\n",
    "  return propervarname\n"
   ]
  },
  {
   "cell_type": "code",
   "execution_count": 9,
   "metadata": {
    "colab": {},
    "colab_type": "code",
    "id": "l1DOLZmK9OAr"
   },
   "outputs": [],
   "source": [
    "# define the function to graph the data, takes one value as an input: the variable that will be graphed versus the date\n",
    "def county_graph(variable):\n",
    "\n",
    "  # if cases or the difference in cases is graphed, set a common graph color\n",
    "  if variable == 'cases' or variable == 'difcases':\n",
    "    \n",
    "    graphcolor = \"C0\"\n",
    "\n",
    "  # if deaths or the difference in deaths is graphed, set a common graph color\n",
    "  elif variable == 'deaths' or variable == 'difdeaths':\n",
    "\n",
    "    graphcolor = \"C1\"\n",
    "\n",
    "  # initialize the line plot or graph\n",
    "  countydf.plot(kind = 'line', x = 'date', y = variable, color = graphcolor, legend = None)\n",
    "\n",
    "  # title the graph using the proper_name function\n",
    "  plt.title('COVID-19 ' + proper_name(variable) + ' in ' + countyname + ' County' + ifcomma + ' ' + countystatename)\n",
    "  \n",
    "  # label the y-axis using the proper_name function & x-axis\n",
    "  plt.ylabel(proper_name(variable))\n",
    "  plt.xlabel('Date')\n",
    "\n",
    "  # draw the graph\n",
    "  plt.plot()"
   ]
  },
  {
   "cell_type": "code",
   "execution_count": 27,
   "metadata": {},
   "outputs": [
    {
     "data": {
      "application/vnd.jupyter.widget-view+json": {
       "model_id": "40f1b07dec384ae2b52bce1397db4c1e",
       "version_major": 2,
       "version_minor": 0
      },
      "text/plain": [
       "SelectionRangeSlider(description='Months 2020', index=(0, 11), options=(('Jan', datetime.date(2020, 1, 1)), ('…"
      ]
     },
     "metadata": {},
     "output_type": "display_data"
    }
   ],
   "source": [
    "import datetime\n",
    "dates = [datetime.date(2020, i, 1) for i in range(1, 13)]\n",
    "options = [(i.strftime('%b'), i) for i in dates]\n",
    "a = widgets.SelectionRangeSlider(\n",
    "    options=options,\n",
    "    index=(0, 11),\n",
    "    description='Months 2020',\n",
    "    disabled=False\n",
    ")\n",
    "\n",
    "display(a)"
   ]
  },
  {
   "cell_type": "code",
   "execution_count": 28,
   "metadata": {},
   "outputs": [
    {
     "data": {
      "text/plain": [
       "(datetime.date(2020, 1, 1), datetime.date(2020, 5, 1))"
      ]
     },
     "execution_count": 28,
     "metadata": {},
     "output_type": "execute_result"
    }
   ],
   "source": [
    "a.value"
   ]
  },
  {
   "cell_type": "code",
   "execution_count": 29,
   "metadata": {},
   "outputs": [
    {
     "data": {
      "application/vnd.jupyter.widget-view+json": {
       "model_id": "e2dd9a1104d24da7957871a6ee268fa5",
       "version_major": 2,
       "version_minor": 0
      },
      "text/plain": [
       "RadioButtons(description='Graph?', options=('all 4', 'cases', 'deaths', 'new cases/day', 'new deaths/day'), va…"
      ]
     },
     "metadata": {},
     "output_type": "display_data"
    }
   ],
   "source": [
    "whattograph = widgets.RadioButtons(\n",
    "    options=['all 4', 'cases', 'deaths', 'new cases/day', 'new deaths/day', ],\n",
    "    value='all 4',\n",
    "   \n",
    "    description='Graph?',\n",
    "    disabled=False\n",
    ")\n",
    "\n",
    "display(whattograph)"
   ]
  },
  {
   "cell_type": "code",
   "execution_count": 30,
   "metadata": {
    "colab": {
     "base_uri": "https://localhost:8080/",
     "height": 1000
    },
    "colab_type": "code",
    "id": "iMnquWZedJmT",
    "outputId": "add1fb71-701d-4512-c0a5-f3a6a678c267"
   },
   "outputs": [
    {
     "data": {
      "image/png": "[encoded data removed]",
      "text/plain": [
       "<Figure size 432x288 with 1 Axes>"
      ]
     },
     "metadata": {
      "needs_background": "light"
     },
     "output_type": "display_data"
    },
    {
     "data": {
      "image/png": "[encoded data removed]",
      "text/plain": [
       "<Figure size 432x288 with 1 Axes>"
      ]
     },
     "metadata": {
      "needs_background": "light"
     },
     "output_type": "display_data"
    },
    {
     "data": {
      "image/png": "[encoded data removed]",
      "text/plain": [
       "<Figure size 432x288 with 1 Axes>"
      ]
     },
     "metadata": {
      "needs_background": "light"
     },
     "output_type": "display_data"
    },
    {
     "data": {
      "image/png": "[encoded data removed]",
      "text/plain": [
       "<Figure size 432x288 with 1 Axes>"
      ]
     },
     "metadata": {
      "needs_background": "light"
     },
     "output_type": "display_data"
    }
   ],
   "source": [
    "# if Cases was selected, graph the cases\n",
    "if whattograph.value == 'cases':\n",
    "\n",
    "  county_graph('cases')\n",
    "\n",
    "# if Difference in Cases was selected, graph the cases\n",
    "elif whattograph.value == 'new cases/day':\n",
    "\n",
    "  county_graph('difcases')\n",
    "\n",
    "# if Deaths was selected, graph the deaths\n",
    "elif whattograph.value == 'deaths':\n",
    "\n",
    "  county_graph('deaths')\n",
    "\n",
    "# if Difference in Deaths was selected, graph the difference in deaths\n",
    "elif whattograph.value == 'new deaths/day':\n",
    "\n",
    "  county_graph('difdeaths')\n",
    "\n",
    "# if All 4 was selected, graph all of the graphs\n",
    "else:\n",
    "\n",
    "  county_graph('cases')\n",
    "  county_graph('difcases')\n",
    "  county_graph('deaths')\n",
    "  county_graph('difdeaths') "
   ]
  },
  {
   "cell_type": "code",
   "execution_count": null,
   "metadata": {},
   "outputs": [],
   "source": []
  }
 ],
 "metadata": {
  "colab": {
   "collapsed_sections": [],
   "name": "COVID-19 for the CollegeBoard.ipynb",
   "provenance": [],
   "toc_visible": true
  },
  "kernelspec": {
   "display_name": "Python 3",
   "language": "python",
   "name": "python3"
  },
  "language_info": {
   "codemirror_mode": {
    "name": "ipython",
    "version": 3
   },
   "file_extension": ".py",
   "mimetype": "text/x-python",
   "name": "python",
   "nbconvert_exporter": "python",
   "pygments_lexer": "ipython3",
   "version": "3.8.6"
  }
 },
 "nbformat": 4,
 "nbformat_minor": 1
}
