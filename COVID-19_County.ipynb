{
 "cells": [
  {
   "cell_type": "code",
   "execution_count": 1,
   "metadata": {
    "colab": {
     "base_uri": "https://localhost:8080/",
     "height": 34
    },
    "colab_type": "code",
    "id": "1YASyoTRJ9Pp",
    "outputId": "35256972-be08-456f-9179-d0e19b43f294"
   },
   "outputs": [
    {
     "name": "stdout",
     "output_type": "stream",
     "text": [
      "import of packages successful\n"
     ]
    }
   ],
   "source": [
    "# import necessary Python packages\n",
    "import matplotlib.pyplot as plt\n",
    "import pandas as pd\n",
    "import ipywidgets as widgets\n",
    "\n",
    "# print message after packages imported successfully\n",
    "print(\"import of packages successful\")\n"
   ]
  },
  {
   "cell_type": "code",
   "execution_count": 2,
   "metadata": {
    "colab": {},
    "colab_type": "code",
    "id": "E5kCU2XEaAm5"
   },
   "outputs": [],
   "source": [
    "# import the files with COVID-19 cases in all of US from NY Times\n",
    "url = 'https://raw.githubusercontent.com/nytimes/covid-19-data/master/us-counties.csv'\n",
    "\n",
    "# initialize the main dataframe by reading the NY Times csv file and name it df\n",
    "df = pd.read_csv(url)\n",
    "\n",
    "# convert the dates into a format that is recognizable to Pandas\n",
    "df['date'] = pd.to_datetime(df.date)"
   ]
  },
  {
   "cell_type": "code",
   "execution_count": 3,
   "metadata": {
    "colab": {},
    "colab_type": "code",
    "id": "znnL3Cd3itRN"
   },
   "outputs": [],
   "source": [
    "def spell_check(column):\n",
    "\n",
    "  # define these as global variables as they will be referenced by other functions later\n",
    "  global i, countyname, countystatename, ifcomma\n",
    "\n",
    "  # set i as the keyboard input\n",
    "  i = input()\n",
    "\n",
    "  # if the dataframe does not contain the inputted text, keep on prompting the user to type it in correctly, it will only advance when typed correctly\n",
    "  if df[column].str.contains(i).any() == False:\n",
    "\n",
    "    print('\\n')\n",
    "\n",
    "    while df[column].str.contains(i).any() == False:\n",
    "\n",
    "      i = input('You mispelled something, please try again: ')\n",
    "\n",
    "  # if the county is being spell checked, set the countyname to what is inputted from the keyboard, and leave countystatename and ifcomma blank\n",
    "  if column == 'county':\n",
    "\n",
    "    countyname = i\n",
    "    countystatename = ''\n",
    "    ifcomma = ''\n",
    "\n",
    "  # if the state is being spell checked, set the countystatename from the keyboard, and enable the comma that will later be used in the title\n",
    "  else:\n",
    "\n",
    "    countystatename = i\n",
    "    ifcomma = ','\n"
   ]
  },
  {
   "cell_type": "code",
   "execution_count": 4,
   "metadata": {
    "colab": {
     "base_uri": "https://localhost:8080/",
     "height": 68
    },
    "colab_type": "code",
    "id": "JXrU0_CEjxPF",
    "outputId": "a4297091-acf6-45e8-e0f3-f820329f8722"
   },
   "outputs": [
    {
     "name": "stdout",
     "output_type": "stream",
     "text": [
      "Input your county: \n",
      "Centre\n",
      "County found\n"
     ]
    }
   ],
   "source": [
    "print('Input your county: ')\n",
    "\n",
    "spell_check('county')\n",
    "\n",
    "# make a new dataframe with the selected county from the previous cell and name it countydf\n",
    "countydf = df[df.county == i].copy()\n",
    "\n",
    "# print that the county was found\n",
    "print('County found') "
   ]
  },
  {
   "cell_type": "code",
   "execution_count": 5,
   "metadata": {
    "colab": {},
    "colab_type": "code",
    "id": "dXj06JbSspNi"
   },
   "outputs": [],
   "source": [
    "# if there are is more than one county with the same name\n",
    "if countydf.state.nunique() > 1:\n",
    "\n",
    "  # print \"There is more than one county with the same name\"\n",
    "  print(\"There is more than one county with the same name.\")\n",
    "\n",
    "  # ask for which state your county is located in\n",
    "  print(\"Enter the state that your county is in: \")\n",
    "  \n",
    "  spell_check('state')\n",
    "\n",
    "  # update the dataframe to only be that county\n",
    "  countydf = countydf[countydf.state == i] \n",
    "\n",
    "  # print that the state was found\n",
    "  print('State found')   \n"
   ]
  },
  {
   "cell_type": "code",
   "execution_count": 6,
   "metadata": {
    "colab": {},
    "colab_type": "code",
    "id": "SL1Rq5qPBJc4"
   },
   "outputs": [],
   "source": [
    "# define a function to find the new cases per day and new deaths per day and append the column to the existing countydf dataframe\n",
    "def dif_in(column):\n",
    "\n",
    "  countydf['dif' + column] = countydf[column] - countydf[column].shift(1)"
   ]
  },
  {
   "cell_type": "code",
   "execution_count": 7,
   "metadata": {
    "colab": {},
    "colab_type": "code",
    "id": "eb8r3dfaM_Jr"
   },
   "outputs": [],
   "source": [
    "# find the new cases per day using the dif_in function\n",
    "dif_in('cases')\n",
    "\n",
    "# find the new deaths per day using the dif_in function\n",
    "dif_in('deaths')"
   ]
  },
  {
   "cell_type": "code",
   "execution_count": 8,
   "metadata": {
    "colab": {},
    "colab_type": "code",
    "id": "wBmwnYS43lWf"
   },
   "outputs": [],
   "source": [
    "# define function that converts the abbreviations(cases, difcases, deaths, difdeaths) into proper names which will be used to name the y-axis and title the graphs\n",
    "def proper_name(inpropname):\n",
    "\n",
    "  # capitalize the first letter for cases & deaths\n",
    "  if len(inpropname) <= 6:\n",
    "\n",
    "    propervarname = inpropname.capitalize()\n",
    "\n",
    "  # make difdeaths and difcases into New Deaths per Day and New Cases per Day\n",
    "  else:\n",
    "\n",
    "    propervarname = 'New ' + inpropname[3:].capitalize() + ' per Day'\n",
    "\n",
    "  return propervarname\n"
   ]
  },
  {
   "cell_type": "code",
   "execution_count": 9,
   "metadata": {
    "colab": {},
    "colab_type": "code",
    "id": "l1DOLZmK9OAr"
   },
   "outputs": [],
   "source": [
    "# define the function to graph the data, takes one value as an input: the variable that will be graphed versus the date\n",
    "def county_graph(variable):\n",
    "\n",
    "  # if cases or the difference in cases is graphed, set a common graph color\n",
    "  if variable == 'cases' or variable == 'difcases':\n",
    "    \n",
    "    graphcolor = \"C0\"\n",
    "\n",
    "  # if deaths or the difference in deaths is graphed, set a common graph color\n",
    "  elif variable == 'deaths' or variable == 'difdeaths':\n",
    "\n",
    "    graphcolor = \"C1\"\n",
    "\n",
    "  # initialize the line plot or graph\n",
    "  countydf.plot(kind = 'line', x = 'date', y = variable, color = graphcolor, legend = None)\n",
    "\n",
    "  # title the graph using the proper_name function\n",
    "  plt.title('COVID-19 ' + proper_name(variable) + ' in ' + countyname + ' County' + ifcomma + ' ' + countystatename)\n",
    "  \n",
    "  # label the y-axis using the proper_name function & x-axis\n",
    "  plt.ylabel(proper_name(variable))\n",
    "  plt.xlabel('Date')\n",
    "\n",
    "  # draw the graph\n",
    "  plt.plot()"
   ]
  },
  {
   "cell_type": "code",
   "execution_count": 10,
   "metadata": {
    "colab": {
     "base_uri": "https://localhost:8080/",
     "height": 68
    },
    "colab_type": "code",
    "id": "lGmfNtdgcWvd",
    "outputId": "4014c2c6-22eb-4b41-fd10-942c09b59704"
   },
   "outputs": [
    {
     "name": "stdout",
     "output_type": "stream",
     "text": [
      "Would you like to graph: Cases, Difference in Cases, Deaths, Difference in Deaths, or All 4\n",
      "All 4\n",
      "Option selected\n"
     ]
    }
   ],
   "source": [
    "# print the options that are available to graph\n",
    "print('Would you like to graph: Cases, Difference in Cases, Deaths, Difference in Deaths, or All 4')\n",
    "\n",
    "# take an input, and set the whattograph variable as it\n",
    "whattograph = input()\n",
    "\n",
    "# if the option selected is not correctly spelled by the user, keep on trying\n",
    "if (whattograph == 'Cases' or whattograph == 'Difference in Cases' or whattograph == 'Deaths' or whattograph == 'Difference in Deaths' or whattograph == 'All 4') == False:\n",
    "\n",
    "  print('\\n')\n",
    "\n",
    "  while (whattograph == 'Cases' or whattograph == 'Difference in Cases' or whattograph == 'Deaths' or whattograph == 'Difference in Deaths' or whattograph == 'All 4') == False:\n",
    "\n",
    "    whattograph = input(\"You mispelled something, please try again: \")\n",
    "\n",
    "# if the option selected is correctly spelled by the user, print that it is\n",
    "print('Option selected')\n"
   ]
  },
  {
   "cell_type": "code",
   "execution_count": 39,
   "metadata": {},
   "outputs": [
    {
     "data": {
      "application/vnd.jupyter.widget-view+json": {
       "model_id": "45af7f6b5ff148fe8d49b524c97a9e6f",
       "version_major": 2,
       "version_minor": 0
      },
      "text/plain": [
       "Box(children=(Label(value='What would you like to graph?'), RadioButtons(layout=Layout(width='max-content'), o…"
      ]
     },
     "metadata": {},
     "output_type": "display_data"
    }
   ],
   "source": [
    "widgets.Box(\n",
    "    [\n",
    "        widgets.Label(value='What would you like to graph?'),\n",
    "        widgets.RadioButtons(\n",
    "            options=[\n",
    "                'Cases',\n",
    "                'Difference in Cases',\n",
    "                'Deaths',\n",
    "                'Difference in Deaths',\n",
    "                'All 4'\n",
    "            ],\n",
    "            layout={'width': 'max-content'}\n",
    "        )\n",
    "    ]\n",
    ")\n"
   ]
  },
  {
   "cell_type": "code",
   "execution_count": 49,
   "metadata": {},
   "outputs": [
    {
     "data": {
      "text/plain": [
       "'all 4'"
      ]
     },
     "execution_count": 49,
     "metadata": {},
     "output_type": "execute_result"
    }
   ],
   "source": [
    "w.close()\n",
    "\n",
    "w.value"
   ]
  },
  {
   "cell_type": "code",
   "execution_count": 60,
   "metadata": {},
   "outputs": [
    {
     "data": {
      "application/vnd.jupyter.widget-view+json": {
       "model_id": "7afb3b768c8b4e5abdba23b8bef69966",
       "version_major": 2,
       "version_minor": 0
      },
      "text/plain": [
       "SelectionRangeSlider(description='Months 2020', index=(0, 11), options=(('Jan', datetime.date(2020, 1, 1)), ('…"
      ]
     },
     "metadata": {},
     "output_type": "display_data"
    }
   ],
   "source": [
    "import datetime\n",
    "dates = [datetime.date(2020, i, 1) for i in range(1, 13)]\n",
    "options = [(i.strftime('%b'), i) for i in dates]\n",
    "widgets.SelectionRangeSlider(\n",
    "    options=options,\n",
    "    index=(0, 11),\n",
    "    description='Months 2020',\n",
    "    disabled=False\n",
    ")"
   ]
  },
  {
   "cell_type": "code",
   "execution_count": 27,
   "metadata": {},
   "outputs": [
    {
     "data": {
      "application/vnd.jupyter.widget-view+json": {
       "model_id": "9d67a6e53a954242af08ed0342a9553f",
       "version_major": 2,
       "version_minor": 0
      },
      "text/plain": [
       "ToggleButtons(description='Speed:', options=('Slow', 'Regular', 'Fast'), tooltips=('Description of slow', 'Des…"
      ]
     },
     "metadata": {},
     "output_type": "display_data"
    }
   ],
   "source": [
    "widgets.ToggleButtons(\n",
    "    options=['Slow', 'Regular', 'Fast'],\n",
    "    description='Speed:',\n",
    "    disabled=False,\n",
    "    button_style='', # 'success', 'info', 'warning', 'danger' or ''\n",
    "    tooltips=['Description of slow', 'Description of regular', 'Description of fast'],\n",
    "#     icons=['check'] * 3\n",
    ")"
   ]
  },
  {
   "cell_type": "code",
   "execution_count": 23,
   "metadata": {},
   "outputs": [
    {
     "data": {
      "application/vnd.jupyter.widget-view+json": {
       "model_id": "c0e0553080144e30ae14e5032b62e27b",
       "version_major": 2,
       "version_minor": 0
      },
      "text/plain": [
       "DatePicker(value=None, description='Pick a Date')"
      ]
     },
     "metadata": {},
     "output_type": "display_data"
    }
   ],
   "source": [
    "widgets.DatePicker(\n",
    "    description='Pick a Date',\n",
    "    disabled=False\n",
    ")"
   ]
  },
  {
   "cell_type": "code",
   "execution_count": 56,
   "metadata": {},
   "outputs": [
    {
     "data": {
      "application/vnd.jupyter.widget-view+json": {
       "model_id": "4ea1e83e296d4467bd18e78943f80a50",
       "version_major": 2,
       "version_minor": 0
      },
      "text/plain": [
       "RadioButtons(description='Graph?', options=('all 4', 'cases', 'deaths', 'new cases/day', 'new deaths/day'), va…"
      ]
     },
     "metadata": {},
     "output_type": "display_data"
    }
   ],
   "source": [
    "whattograph = widgets.RadioButtons(\n",
    "    options=['all 4', 'cases', 'deaths', 'new cases/day', 'new deaths/day', ],\n",
    "    value='all 4',\n",
    "   \n",
    "    description='Graph?',\n",
    "    disabled=False\n",
    ")\n",
    "\n",
    "display(whattograph)"
   ]
  },
  {
   "cell_type": "code",
   "execution_count": 57,
   "metadata": {
    "colab": {
     "base_uri": "https://localhost:8080/",
     "height": 1000
    },
    "colab_type": "code",
    "id": "iMnquWZedJmT",
    "outputId": "add1fb71-701d-4512-c0a5-f3a6a678c267"
   },
   "outputs": [
    {
     "data": {
      "image/png": "[encoded data removed]",
      "text/plain": [
       "<Figure size 432x288 with 1 Axes>"
      ]
     },
     "metadata": {
      "needs_background": "light"
     },
     "output_type": "display_data"
    }
   ],
   "source": [
    "# if Cases was selected, graph the cases\n",
    "if whattograph.value == 'cases':\n",
    "\n",
    "  county_graph('cases')\n",
    "\n",
    "# if Difference in Cases was selected, graph the cases\n",
    "elif whattograph.value == 'new cases/day':\n",
    "\n",
    "  county_graph('difcases')\n",
    "\n",
    "# if Deaths was selected, graph the deaths\n",
    "elif whattograph.value == 'deaths':\n",
    "\n",
    "  county_graph('deaths')\n",
    "\n",
    "# if Difference in Deaths was selected, graph the difference in deaths\n",
    "elif whattograph.value == 'new deaths/day':\n",
    "\n",
    "  county_graph('difdeaths')\n",
    "\n",
    "# if All 4 was selected, graph all of the graphs\n",
    "else:\n",
    "\n",
    "  county_graph('cases')\n",
    "  county_graph('difcases')\n",
    "  county_graph('deaths')\n",
    "  county_graph('difdeaths') "
   ]
  },
  {
   "cell_type": "code",
   "execution_count": null,
   "metadata": {},
   "outputs": [],
   "source": []
  }
 ],
 "metadata": {
  "colab": {
   "collapsed_sections": [],
   "name": "COVID-19 for the CollegeBoard.ipynb",
   "provenance": [],
   "toc_visible": true
  },
  "kernelspec": {
   "display_name": "Python 3",
   "language": "python",
   "name": "python3"
  },
  "language_info": {
   "codemirror_mode": {
    "name": "ipython",
    "version": 3
   },
   "file_extension": ".py",
   "mimetype": "text/x-python",
   "name": "python",
   "nbconvert_exporter": "python",
   "pygments_lexer": "ipython3",
   "version": "3.8.5"
  }
 },
 "nbformat": 4,
 "nbformat_minor": 1
}
